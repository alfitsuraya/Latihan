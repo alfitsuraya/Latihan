{
 "cells": [
  {
   "cell_type": "code",
   "execution_count": 1,
   "id": "627931d4-fbea-4b8a-b98c-8a0a0885cc92",
   "metadata": {},
   "outputs": [
    {
     "name": "stdout",
     "output_type": "stream",
     "text": [
      "b'<?xml version=\"1.0\" encoding=\"UTF-8\" ?>\\n<!DOCTYPE eInfoResult PUBLIC \"-//NLM//DTD einfo 20190110//EN\" \"https://eutils.ncbi.nlm.nih.gov/eutils/dtd/20190110/einfo.dtd\">\\n<eInfoResult>\\n<DbList>\\n\\n\\t<DbName>pubmed</DbName>\\n\\t<DbName>protein</DbName>\\n\\t<DbName>nuccore</DbName>\\n\\t<DbName>ipg</DbName>\\n\\t<DbName>nucleotide</DbName>\\n\\t<DbName>structure</DbName>\\n\\t<DbName>genome</DbName>\\n\\t<DbName>annotinfo</DbName>\\n\\t<DbName>assembly</DbName>\\n\\t<DbName>bioproject</DbName>\\n\\t<DbName>biosample</DbName>\\n\\t<DbName>blastdbinfo</DbName>\\n\\t<DbName>books</DbName>\\n\\t<DbName>cdd</DbName>\\n\\t<DbName>clinvar</DbName>\\n\\t<DbName>gap</DbName>\\n\\t<DbName>gapplus</DbName>\\n\\t<DbName>grasp</DbName>\\n\\t<DbName>dbvar</DbName>\\n\\t<DbName>gene</DbName>\\n\\t<DbName>gds</DbName>\\n\\t<DbName>geoprofiles</DbName>\\n\\t<DbName>homologene</DbName>\\n\\t<DbName>medgen</DbName>\\n\\t<DbName>mesh</DbName>\\n\\t<DbName>ncbisearch</DbName>\\n\\t<DbName>nlmcatalog</DbName>\\n\\t<DbName>omim</DbName>\\n\\t<DbName>orgtrack</DbName>\\n\\t<DbName>pmc</DbName>\\n\\t<DbName>popset</DbName>\\n\\t<DbName>proteinclusters</DbName>\\n\\t<DbName>pcassay</DbName>\\n\\t<DbName>protfam</DbName>\\n\\t<DbName>biosystems</DbName>\\n\\t<DbName>pccompound</DbName>\\n\\t<DbName>pcsubstance</DbName>\\n\\t<DbName>seqannot</DbName>\\n\\t<DbName>snp</DbName>\\n\\t<DbName>sra</DbName>\\n\\t<DbName>taxonomy</DbName>\\n\\t<DbName>biocollections</DbName>\\n\\t<DbName>gtr</DbName>\\n</DbList>\\n\\n</eInfoResult>\\n'\n"
     ]
    }
   ],
   "source": [
    "from Bio import Entrez\n",
    "Entrez.email = \"alfitsuraya@gmail.com\"\n",
    "\n",
    "handle = Entrez.einfo()\n",
    "print(handle.read())\n",
    "handle.close()"
   ]
  },
  {
   "cell_type": "code",
   "execution_count": 2,
   "id": "562b41da-8347-4f71-9532-528e9a1536cc",
   "metadata": {},
   "outputs": [
    {
     "name": "stdout",
     "output_type": "stream",
     "text": [
      "{'Count': '1263', 'RetMax': '20', 'RetStart': '0', 'IdList': ['1832154832', '1832154830', '1832154828', '1832154826', '1832154824', '1832154822', '1832154820', '1832154818', '1832154816', '1832154814', '1832154812', '1832154810', '1832154808', '1832154806', '1832154804', '1832154802', '1832154799', '1832154795', '1832154793', '1832154791'], 'TranslationSet': [{'From': 'andrographis', 'To': '\"Andrographis\"[Organism] OR andrographis[All Fields]'}], 'TranslationStack': [{'Term': '\"Andrographis\"[Organism]', 'Field': 'Organism', 'Count': '1070', 'Explode': 'Y'}, {'Term': 'andrographis[All Fields]', 'Field': 'All Fields', 'Count': '1263', 'Explode': 'N'}, 'OR', 'GROUP'], 'QueryTranslation': '\"Andrographis\"[Organism] OR andrographis[All Fields]'}\n"
     ]
    }
   ],
   "source": [
    "from Bio import Entrez\n",
    "Entrez.email = \"alfitsuraya@gmail.com\"\n",
    "\n",
    "handle = Entrez.esearch(db=\"nuccore\", term=\"andrographis\")\n",
    "record = Entrez.read(handle)\n",
    "print(record)\n",
    "handle.close() #always close your handle after you finish"
   ]
  },
  {
   "cell_type": "code",
   "execution_count": 3,
   "id": "3b70e42e-a86f-4b0c-b870-b1ebd4d6bb78",
   "metadata": {},
   "outputs": [
    {
     "name": "stdout",
     "output_type": "stream",
     "text": [
      "{'Count': '383', 'RetMax': '20', 'RetStart': '0', 'IdList': ['1832154832', '1832154830', '1832154828', '1832154826', '1832154824', '1832154822', '1832154820', '1832154818', '1832154816', '1832154814', '1832154812', '1832154810', '1832154808', '1832154806', '1832154804', '1832154802', '1832154799', '1832154795', '1832154793', '1832154791'], 'TranslationSet': [{'From': 'andrographis', 'To': '\"Andrographis\"[Organism] OR andrographis[All Fields]'}], 'TranslationStack': [{'Term': '\"Andrographis\"[Organism]', 'Field': 'Organism', 'Count': '1070', 'Explode': 'Y'}, {'Term': 'andrographis[All Fields]', 'Field': 'All Fields', 'Count': '1263', 'Explode': 'N'}, 'OR', 'GROUP', {'Term': 'gene[All Fields]', 'Field': 'All Fields', 'Count': '191491352', 'Explode': 'N'}, 'AND', 'GROUP'], 'QueryTranslation': '(\"Andrographis\"[Organism] OR andrographis[All Fields]) AND gene[All Fields]'}\n"
     ]
    }
   ],
   "source": [
    "from Bio import Entrez\n",
    "Entrez.email = \"alfitsuraya@gmail.com\"\n",
    "\n",
    "handle = Entrez.esearch(db=\"nuccore\", term=\"andrographis gene\")\n",
    "record = Entrez.read(handle)\n",
    "print(record)\n",
    "handle.close() #always close your handle after you finish"
   ]
  },
  {
   "cell_type": "code",
   "execution_count": 4,
   "id": "9f69356a-1e6b-4aa4-bee9-a7236e3e2368",
   "metadata": {},
   "outputs": [
    {
     "name": "stdout",
     "output_type": "stream",
     "text": [
      "LOCUS       MK577763                1410 bp    mRNA    linear   PLN 26-FEB-2022\n",
      "DEFINITION  Andrographis paniculata terpene synthase 39 (TPS39) mRNA, complete\n",
      "            cds.\n",
      "ACCESSION   MK577763\n",
      "VERSION     MK577763.1\n",
      "KEYWORDS    .\n",
      "SOURCE      Andrographis paniculata\n",
      "  ORGANISM  Andrographis paniculata\n",
      "            Eukaryota; Viridiplantae; Streptophyta; Embryophyta; Tracheophyta;\n",
      "            Spermatophyta; Magnoliopsida; eudicotyledons; Gunneridae;\n",
      "            Pentapetalae; asterids; lamiids; Lamiales; Acanthaceae;\n",
      "            Acanthoideae; Andrographideae; Andrographis.\n",
      "REFERENCE   1  (bases 1 to 1410)\n",
      "  AUTHORS   Wang,J., Huang,L., Gao,W. and Lin,H.\n",
      "  TITLE     Direct Submission\n",
      "  JOURNAL   Submitted (25-FEB-2019) National Resource Center for Chinese\n",
      "            Materia Medica, Academy of Chinese Medical Sciences, No. 16, South\n",
      "            Nanxiao Street, Dongzhimen, Dongcheng District, Beijing 100700,\n",
      "            China\n",
      "COMMENT     ##Assembly-Data-START##\n",
      "            Sequencing Technology :: Sanger dideoxy sequencing\n",
      "            ##Assembly-Data-END##\n",
      "FEATURES             Location/Qualifiers\n",
      "     source          1..1410\n",
      "                     /organism=\"Andrographis paniculata\"\n",
      "                     /mol_type=\"mRNA\"\n",
      "                     /db_xref=\"taxon:175694\"\n",
      "     gene            <1..>1410\n",
      "                     /gene=\"TPS39\"\n",
      "     CDS             1..1410\n",
      "                     /gene=\"TPS39\"\n",
      "                     /codon_start=1\n",
      "                     /product=\"terpene synthase 39\"\n",
      "                     /protein_id=\"QJA18354.1\"\n",
      "                     /translation=\"MLREHHRHFFQRTHITPDNLYTVCLSFRLLRQAGFPITQDVFKC\n",
      "                     FMNKNGNEFDEDLREDMEGLLALYEASHLDFEGEQILDKAATFSARILSTNSVGIFED\n",
      "                     QHDQPVKYTLQNPRHKTMARLVAKNFLEKNVPKNEWTILLQDLARMDQAVVGSLFHDE\n",
      "                     VLQVVKWWDGLELTKELESARDQPKKWHMWSMSVLQDPTMSWHRILLTKPVSLVYIVD\n",
      "                     DIFDIYGTMDQLELFTNAIKRWEIFDSEGLPNYMKTCFEAIQETTQEIIDIVYQNHGF\n",
      "                     DPSNILKRSWGELFDAFLTEAKWFGNGHLAKADEYLSNGIVSSGVPMVLTHLFFILGD\n",
      "                     NVWSEEAHRVLSNGDHNNILYLVGMILRLFDDLGSAQDEQCYGNDGSYVECYMKDFEV\n",
      "                     SSHAVAKKHVMKKVSETWKKLNKRALSSSSSSNPFSESFRNACLNVARMVPVIYDKGR\n",
      "                     KNDLLALAQCFESTLNEDE\"\n",
      "ORIGIN      \n",
      "        1 atgttacgtg aacatcatag acactttttt cagagaacac acattacgcc cgacaatcta\n",
      "       61 tacactgttt gtcttagttt tcgactattg agacaagccg gttttcccat cactcaagat\n",
      "      121 gtattcaagt gttttatgaa caaaaatggg aatgaattcg acgaagatct tcgtgaagac\n",
      "      181 atggaaggtc ttcttgcatt gtacgaagct tcccatttgg atttcgaagg agagcaaata\n",
      "      241 ctcgacaaag ccgcaacatt tagcgcgaga attctatcga caaactctgt aggaatattt\n",
      "      301 gaagatcaac acgatcaacc ggttaaatac actttgcaaa acccgcgcca caagacaatg\n",
      "      361 gcgaggctcg tggccaagaa cttcctcgaa aaaaatgtac ccaaaaatga gtggacaatt\n",
      "      421 cttctacaag acttagcaag aatggatcag gccgtggttg gatcactatt tcacgatgaa\n",
      "      481 gtacttcaag ttgtgaagtg gtgggatggt ctcgagctaa caaaggaatt agagtccgcg\n",
      "      541 agggaccaac cgaagaaatg gcacatgtgg tcgatgtccg tgcttcaaga tccgaccatg\n",
      "      601 tcttggcacc gaatactact cacaaagccg gtctcccttg tctacattgt tgatgatatt\n",
      "      661 tttgacattt atggtacaat ggatcaactc gaactcttta caaatgcgat caaaagatgg\n",
      "      721 gagattttcg atagcgaagg actaccaaac tacatgaaga cgtgctttga agcaattcaa\n",
      "      781 gaaactacac aagaaataat cgacatagtc taccaaaatc acggatttga tccatcgaac\n",
      "      841 atcttaaaaa gatcgtgggg agaattgttc gatgcatttt taacagaggc gaagtggttt\n",
      "      901 gggaatggtc atttggcgaa ggcggatgag tatctaagca acgggattgt gagctctgga\n",
      "      961 gtgccgatgg ttcttacaca tctcttcttc attctcggcg acaatgtttg gagcgaagaa\n",
      "     1021 gctcaccgag ttttgagcaa tggagatcat aacaacatcc tatatttggt tggaatgatt\n",
      "     1081 cttcgcctct tcgatgactt ggggagcgct caggacgagc aatgttatgg gaacgatgga\n",
      "     1141 tcgtacgtcg agtgctacat gaaggatttt gaagtatcat cgcacgcggt ggcgaagaaa\n",
      "     1201 catgtgatga aaaaggtttc ggagacatgg aagaaactca acaagcgcgc attatcgtcg\n",
      "     1261 tcgtcatcgt caaacccttt ctcggaatcg ttcagaaatg catgtcttaa tgttgcaagg\n",
      "     1321 atggttcctg tgatatatga taagggtcgc aagaatgatc ttcttgctct agctcaatgt\n",
      "     1381 ttcgagtcaa cacttaatga agatgaatga\n",
      "//\n",
      "\n",
      "\n"
     ]
    }
   ],
   "source": [
    "from Bio import Entrez\n",
    "Entrez.email = \"alfitsuraya@gmail.com\"\n",
    "\n",
    "#creating EFetch handle\n",
    "efetch_handle = Entrez.efetch(db=\"nuccore\", id=\"1832154832\", rettype=\"gb\", retmode=\"text\")\n",
    "gbrecord = efetch_handle.read()\n",
    "print(gbrecord)\n",
    "efetch_handle.close() #always close your handle after you finish"
   ]
  },
  {
   "cell_type": "code",
   "execution_count": 5,
   "id": "2cec0781-adbe-4836-8311-6b3c432d011f",
   "metadata": {},
   "outputs": [
    {
     "name": "stdout",
     "output_type": "stream",
     "text": [
      ">MK577763.1 Andrographis paniculata terpene synthase 39 (TPS39) mRNA, complete cds\n",
      "ATGTTACGTGAACATCATAGACACTTTTTTCAGAGAACACACATTACGCCCGACAATCTATACACTGTTT\n",
      "GTCTTAGTTTTCGACTATTGAGACAAGCCGGTTTTCCCATCACTCAAGATGTATTCAAGTGTTTTATGAA\n",
      "CAAAAATGGGAATGAATTCGACGAAGATCTTCGTGAAGACATGGAAGGTCTTCTTGCATTGTACGAAGCT\n",
      "TCCCATTTGGATTTCGAAGGAGAGCAAATACTCGACAAAGCCGCAACATTTAGCGCGAGAATTCTATCGA\n",
      "CAAACTCTGTAGGAATATTTGAAGATCAACACGATCAACCGGTTAAATACACTTTGCAAAACCCGCGCCA\n",
      "CAAGACAATGGCGAGGCTCGTGGCCAAGAACTTCCTCGAAAAAAATGTACCCAAAAATGAGTGGACAATT\n",
      "CTTCTACAAGACTTAGCAAGAATGGATCAGGCCGTGGTTGGATCACTATTTCACGATGAAGTACTTCAAG\n",
      "TTGTGAAGTGGTGGGATGGTCTCGAGCTAACAAAGGAATTAGAGTCCGCGAGGGACCAACCGAAGAAATG\n",
      "GCACATGTGGTCGATGTCCGTGCTTCAAGATCCGACCATGTCTTGGCACCGAATACTACTCACAAAGCCG\n",
      "GTCTCCCTTGTCTACATTGTTGATGATATTTTTGACATTTATGGTACAATGGATCAACTCGAACTCTTTA\n",
      "CAAATGCGATCAAAAGATGGGAGATTTTCGATAGCGAAGGACTACCAAACTACATGAAGACGTGCTTTGA\n",
      "AGCAATTCAAGAAACTACACAAGAAATAATCGACATAGTCTACCAAAATCACGGATTTGATCCATCGAAC\n",
      "ATCTTAAAAAGATCGTGGGGAGAATTGTTCGATGCATTTTTAACAGAGGCGAAGTGGTTTGGGAATGGTC\n",
      "ATTTGGCGAAGGCGGATGAGTATCTAAGCAACGGGATTGTGAGCTCTGGAGTGCCGATGGTTCTTACACA\n",
      "TCTCTTCTTCATTCTCGGCGACAATGTTTGGAGCGAAGAAGCTCACCGAGTTTTGAGCAATGGAGATCAT\n",
      "AACAACATCCTATATTTGGTTGGAATGATTCTTCGCCTCTTCGATGACTTGGGGAGCGCTCAGGACGAGC\n",
      "AATGTTATGGGAACGATGGATCGTACGTCGAGTGCTACATGAAGGATTTTGAAGTATCATCGCACGCGGT\n",
      "GGCGAAGAAACATGTGATGAAAAAGGTTTCGGAGACATGGAAGAAACTCAACAAGCGCGCATTATCGTCG\n",
      "TCGTCATCGTCAAACCCTTTCTCGGAATCGTTCAGAAATGCATGTCTTAATGTTGCAAGGATGGTTCCTG\n",
      "TGATATATGATAAGGGTCGCAAGAATGATCTTCTTGCTCTAGCTCAATGTTTCGAGTCAACACTTAATGA\n",
      "AGATGAATGA\n",
      "\n",
      "\n"
     ]
    }
   ],
   "source": [
    "from Bio import Entrez\n",
    "Entrez.email = \"alfitsuraya@gmail.com\"\n",
    "\n",
    "efetch_handle = Entrez.efetch(db=\"nuccore\", id=\"1832154832\", rettype=\"fasta\", retmode=\"text\")\n",
    "fasta_record = efetch_handle.read()\n",
    "print(fasta_record)\n",
    "efetch_handle.close() #always close your handle after you finish"
   ]
  },
  {
   "cell_type": "code",
   "execution_count": 7,
   "id": "9fbdead6-720e-4a96-af2b-f995762b5ce8",
   "metadata": {},
   "outputs": [
    {
     "name": "stdout",
     "output_type": "stream",
     "text": [
      "Downloaded\n"
     ]
    }
   ],
   "source": [
    "import os # import os module for OS utilities\n",
    "from Bio import Entrez\n",
    "Entrez.email = \"alfitsuraya@gmail.com\" #Mandatory! Can be replaced with your personal email.\n",
    "\n",
    "#creating EFetch handle\n",
    "filename = \"Andrographis paniculata mRNA.gbk\" #up to you, but Genbank files always use *.gb or *.gbk\n",
    "\n",
    "#creating EFetch handle\n",
    "if not os.path.isfile(filename):\n",
    " # Downloading file...\n",
    " efetch_handle = Entrez.efetch(db=\"nuccore\", id=\"1832154832\", rettype=\"gb\", retmode=\"text\")\n",
    " output_file_handle = open(filename, \"w\")\n",
    " output_file_handle.write(efetch_handle.read())\n",
    " output_file_handle.close()\n",
    " efetch_handle.close()\n",
    " print(\"Downloaded\")"
   ]
  },
  {
   "cell_type": "code",
   "execution_count": 8,
   "id": "3b0dac06-4874-4ad7-8013-9b79a94f1c99",
   "metadata": {},
   "outputs": [
    {
     "name": "stdout",
     "output_type": "stream",
     "text": [
      "Downloaded\n"
     ]
    }
   ],
   "source": [
    "import os # import os module for OS utilities\n",
    "from Bio import Entrez\n",
    "Entrez.email = \"alfitsuraya@gmail.com\" #Mandatory! Can be replaced with your personal email.\n",
    "\n",
    "#creating EFetch handle\n",
    "filename = \"Andrographis paniculata mRNA.fasta\" #up to you, but FASTA files always use *.fasta or *.fas\n",
    "\n",
    "#creating EFetch handle\n",
    "if not os.path.isfile(filename):\n",
    " # Downloading file...\n",
    " efetch_handle = Entrez.efetch(db=\"nuccore\", id=\"1832154832\", rettype=\"fasta\", retmode=\"text\")\n",
    " output_file_handle = open(filename, \"w\")\n",
    " output_file_handle.write(efetch_handle.read())\n",
    " output_file_handle.close()\n",
    " efetch_handle.close()\n",
    " print(\"Downloaded\")"
   ]
  },
  {
   "cell_type": "code",
   "execution_count": 9,
   "id": "aaf5e4a7-162f-49c0-963c-5882c5275d97",
   "metadata": {},
   "outputs": [
    {
     "name": "stdout",
     "output_type": "stream",
     "text": [
      "Andrographis paniculata complete chloroplast 1.gbk Saved\n"
     ]
    }
   ],
   "source": [
    "#Code 8\n",
    "import os # import os module for OS utilities\n",
    "from Bio import Entrez, SeqIO\n",
    "Entrez.email = \"alfitsuraya@gmail.com\" #Mandatory! Can be replaced with your personal email.\n",
    "\n",
    "#creating EFetch handle\n",
    "filename = \"Andrographis paniculata complete chloroplast 1.gbk\" #up to you, but Genbank files always use *.gb or *.gbk\n",
    "\n",
    "#creating EFetch handle\n",
    "if not os.path.isfile(filename):\n",
    "# Downloading file...\n",
    " efetch_handle = Entrez.efetch(db=\"nuccore\", id=\"672094906\", rettype=\"gb\", retmode=\"text\")\n",
    " output_file_handle = open(filename, \"w\")\n",
    " output_file_handle.write(efetch_handle.read())\n",
    " output_file_handle.close()\n",
    " efetch_handle.close()\n",
    " print((str(filename)) + \" Saved\")\n",
    "else:\n",
    " print((str(filename)) + \" is existing. File cannot be saved!\")"
   ]
  },
  {
   "cell_type": "code",
   "execution_count": 10,
   "id": "0984dbe3-5662-4199-adc0-dbe906c8662b",
   "metadata": {},
   "outputs": [
    {
     "name": "stdout",
     "output_type": "stream",
     "text": [
      ">psbA|Andrographis paniculata chloroplast, complete genome\n",
      "ATGACTGCAATTTTAGAGAGACGCGAAAGCGAAAGCCTATGGGGTCGCTTCTGCAATTGGATAACCAGCACCGAAAACCGCCTTTACATTGGATGGTTTGGTGTTTTGATGATCCCTACCTTATTGACCGCAACTTCTGTATTTCTTATTGCCTTCATTGCTGCCCCTCCAGTAGATATTGATGGTATTCGTGAACCTGTTTCTGGATCTCTACTTTACGGAAACAATATTATCTCAGGTGCCATTATTCCTACTTCTGCAGCTATCGGTTTGCACTTTTACCCCATCTGGGAAGCAGCATCCGTTGATGAATGGTTATACAACGGTGGTCCCTATGAACTAATTGTTCTACACTTCTTACTTGGTGTAGCTTGTTACATGGGCCGTGAGTGGGAGCTTAGTTTCCGTCTGGGTATGCGACCTTGGATTGCTGTTGCATATTCAGCTCCTGTTGCAGCTGCTACCGCTGTTTTCTTGATCTACCCAATTGGTCAAGGAAGTTTTTCTGATGGTATGCCTCTAGGGATTTCTGGTACTTTCAACTTTATGATTGTATTCCAGGCTGAGCACAACATCCTTATGCACCCATTTCACATGTTAGGCGTAGCTGGTGTATTCGGCGGTTCCCTATTCAGTGCTATGCATGGTTCCTTGGTAACTTCTAGTTTGATCAGGGAAACCACAGAAAATGAATCTGCTAATGAAGGTTACAGATTTGGTCAAGAGGAAGAAACTTATAATATTGTAGCCGCTCATGGTTATTTTGGCCGATTGATCTTCCAATATGCTAGTTTCAACAACTCTCGTTCATTACACTTTTTCCTAGCTGCTTGGCCTGTAGTGGGGATCTGGTTCACTGCTTTAGGTATTAGCACTATGGCTTTCAACTTAAATGGTTTCAATTTCAACCAATCTGTAGTTGATAGTCAAGGCCGTGTAATTAATACTTGGGCTGATATTATTAATCGTGCTAACCTTGGTATGGAAGTTATGCATGAACGTAATGCTCATAACTTTCCTTTAGATCTAGCTGCTGTCGAAGCTCCAACAAATGGATAA\n"
     ]
    }
   ],
   "source": [
    "#Code 8 (continued)\n",
    "\n",
    "GoI = \"psbA\" #change \" rbcL\" here with your GoI\n",
    "\n",
    "for genome in SeqIO.parse(\"Andrographis paniculata complete chloroplast 1.gbk\",\"genbank\"):\n",
    " for gene in genome.features:\n",
    "  if gene.type != \"CDS\":\n",
    "    continue\n",
    "  if \"gene\" not in gene.qualifiers:\n",
    "    continue\n",
    "  if GoI not in gene.qualifiers[\"gene\"][0]:\n",
    "    continue\n",
    "  gene_seq = gene.extract(genome.seq)\n",
    "\n",
    "GoI_fasta = \">%s|%s\\n%s\" % (GoI, genome.description, gene_seq)\n",
    "print(GoI_fasta)"
   ]
  },
  {
   "cell_type": "code",
   "execution_count": null,
   "id": "b1b4f56c-5220-49cc-92ed-ead3354c1096",
   "metadata": {},
   "outputs": [],
   "source": []
  }
 ],
 "metadata": {
  "kernelspec": {
   "display_name": "Python 3 (ipykernel)",
   "language": "python",
   "name": "python3"
  },
  "language_info": {
   "codemirror_mode": {
    "name": "ipython",
    "version": 3
   },
   "file_extension": ".py",
   "mimetype": "text/x-python",
   "name": "python",
   "nbconvert_exporter": "python",
   "pygments_lexer": "ipython3",
   "version": "3.9.7"
  }
 },
 "nbformat": 4,
 "nbformat_minor": 5
}
